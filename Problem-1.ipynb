{
 "cells": [
  {
   "cell_type": "markdown",
   "metadata": {},
   "source": [
    "# Exact solution of 2D Ising model\n",
    "References:\n",
    "* B. Kaufman, Phys. Rev. 76, 1232 (1949).\n",
    "* A. E. Ferdinand and M. P. A. Fisher, Phys. Rev. 185, 832 (1969).\n",
    "* Statistical Mechanics, Third Edition by R K Pathria and Paul D. Beale. (Ch 13.4)"
   ]
  },
  {
   "cell_type": "code",
   "execution_count": 1,
   "metadata": {},
   "outputs": [],
   "source": [
    "import numpy as np\n",
    "import matplotlib.pyplot as plt"
   ]
  },
  {
   "cell_type": "code",
   "execution_count": 2,
   "metadata": {},
   "outputs": [],
   "source": [
    "# parameters\n",
    "J = 1\n",
    "kB = 1\n",
    "Tc = 2/np.log(1+np.sqrt(2))\n",
    "Kc = np.log(1+np.sqrt(2))/2"
   ]
  },
  {
   "cell_type": "markdown",
   "metadata": {},
   "source": [
    "### $c$ function and its derivatives\n",
    "The $c$ function is defined as: (Eq 2.4, PRB 1969)\n",
    "$$\n",
    "  c_r =\\cosh(2K)\\coth(2K) - \\cos\\left(\\frac{r \\pi}{n}\\right) \n",
    "  = \\frac{\\cosh(2K)^2}{\\sinh(2K)} - \\cos\\left(\\frac{r \\pi}{n}\\right)\n",
    "  = \\sinh(2K) + \\frac{1}{\\sinh(2K)} - \\cos\\left(\\frac{r \\pi}{n}\\right).\n",
    "$$\n",
    "\n",
    "The first and second deratives of $c_r$ are: (they are independent of $r$ so we can drop the subscript.)\n",
    "\n",
    "$$\n",
    "\\DeclareMathOperator{\\csch}{csch}\n",
    "  c^\\prime = c^\\prime_r = \\cosh(2K)[4-2\\csch^2(2K)] = 2 \\cosh(2K)\\left(1-\\frac{1}{\\sinh(2K)^2}\\right).\n",
    "$$\n",
    "\n",
    "$$\n",
    "  c^{\\prime\\prime} = c^{\\prime\\prime}_r = 8\\csch(2K)^3 \\cosh(2K)^2+4(\\sinh(2K)-\\csch(2K))\n",
    "  =  \\frac{8\\cosh(2K)^2}{\\sinh(2K)^3} + 4\\left( \\sinh(2K) - \\frac{1}{\\sinh(2K)} \\right).\n",
    "$$"
   ]
  },
  {
   "cell_type": "markdown",
   "metadata": {},
   "source": [
    "### $\\gamma$ function and its derivatives\n",
    "$\\gamma$ and $c$ related by the equation $\\cosh(\\gamma_l)=c_l$, (Eq 2.4, PRB 1969) so that\n",
    "$$ \n",
    "  \\gamma_0 = 2K + \\ln(\\tanh(K)). \n",
    "$$\n",
    "$$ \n",
    "  \\gamma_r  =\\text{arccosh}(c_r) = \\ln \\left( c_r + (c^2_r-1)^{1/2} \\right), l \\neq 0. \n",
    "$$\n",
    "Note that there are sign ambituity. The equations above are the correct choices. \n",
    "For example one **should not** choose $\\gamma_0 = \\ln \\left( c_0 + (c^2_0-1)^{1/2} \\right)$. c.f. Fig3 of Phys. Rev. 76, 1232 (1949).\n",
    "\n",
    "Note that $\\gamma_l = \\gamma_{2n-l}$ and for $0\\le l\\le n$ the function $\\gamma_l$ is monotonically increasing in $l$.\n",
    "\n",
    "The first deratives of $\\gamma_r$ are:\n",
    "$$ \n",
    "  \\gamma^\\prime_0 = 2 + \\frac{1}{\\tanh(K)} \\frac{1}{\\cosh^2(K)}\n",
    "  = 2 + \\frac{2}{\\sinh(2K)}\n",
    "  = 2 (1 + \\frac{1}{\\sinh(2K)}).\n",
    "$$\n",
    "\n",
    "$$\n",
    "  \\gamma^\\prime_r = \\frac{c^\\prime_r}{\\sqrt{c^2_r-1}} = c^\\prime (c^2_r-1)^{-1/2}.\n",
    "$$\n",
    "\n",
    "The second deratives of $\\gamma_r$ are:\n",
    "\n",
    "$$\n",
    "  \\gamma_0^{\\prime\\prime} \n",
    "  = -4 \\csch(2K) \\coth(2K)\n",
    "  = -4 \\frac{\\cosh{2K}}{\\sinh(2K)^2}.\n",
    "$$\n",
    "\n",
    "$$\n",
    "  \\gamma_r^{\\prime\\prime} = \\frac{c_r^{\\prime\\prime}}{\\sqrt{c^2-1}} - \\frac{ (c^\\prime_r)^2 c_r }{ (c^2_r-1)^{3/2} }\n",
    "  = c^{\\prime\\prime} (c^2_r-1)^{-1/2} - (c^\\prime)^2 c_r (c^2_r-1)^{-3/2}\n",
    "$$"
   ]
  },
  {
   "cell_type": "markdown",
   "metadata": {},
   "source": [
    "### $Z_1, Z_2, Z_3, Z_4$\n",
    "The canonical partition function reads:\n",
    "$$\n",
    "  Z(K) = \\frac{1}{2} \\left(2\\sinh(2K)\\right)^{mn/2} \\left(Z_1(K) + Z_2(K) + Z_3(K) + Z_4(K)\\right),\n",
    "$$\n",
    "where\n",
    "$$ Z_1(K) = \\prod_{r=0}^{n-1} 2\\cosh(\\frac{m}{2} \\gamma_{2r+1}), \\; Z_2(K) = \\prod_{r=0}^{n-1} 2\\sinh(\\frac{m}{2} \\gamma_{2r+1}), $$\n",
    "$$ Z_3(K) = \\prod_{r=0}^{n-1} 2\\cosh(\\frac{m}{2} \\gamma_{2r1}), \\; Z_4(K) = \\prod_{r=0}^{n-1} 2\\sinh(\\frac{m}{2} \\gamma_{2r1}). $$\n",
    "\n",
    "Note that $Z_4$ changes sign at critical point. $Z_1, Z_2, Z_3$ are alwayas positive. "
   ]
  },
  {
   "cell_type": "markdown",
   "metadata": {},
   "source": [
    "### $\\log(Z)$\n",
    "The log of the partition function reads:\n",
    "$$\n",
    "  \\ln Z=  \\ln( \\frac{1}{2} ) + \\frac{mn}{2} \\ln( 2\\sinh(2K) ) + \\ln\\left(Z_1(K)+Z_2(K)+Z_3(K)+Z_4(K)\\right),\n",
    "$$\n",
    "or the log of the partition function per site\n",
    "$$\n",
    "  \\frac{\\ln Z}{mn} = \\frac{1}{mn} \\ln( \\frac{1}{2} ) + \\frac{1}{2} \\ln( 2\\sinh(2K) ) \n",
    "  + \\frac{1}{mn} \\ln(Z_1(K))\n",
    "  + \\frac{1}{mn} \\ln\\left[ 1+ \\frac{Z_2(K)}{Z_1(K)}+\\frac{Z_3(K)}{Z_1(K)}+\\frac{Z_4(K)}{Z_1(K)} \\right].\n",
    "$$"
   ]
  },
  {
   "cell_type": "markdown",
   "metadata": {},
   "source": [
    "### $\\frac{Z^\\prime_1}{Z_1}, \\frac{Z^\\prime_2}{Z_2}, \\frac{Z^\\prime_3}{Z_3}, \\frac{Z^\\prime_4}{Z_4}$\n",
    "\n",
    "$$ \n",
    "  \\frac{Z^\\prime_1}{Z_1} = \\frac{m}{2} \\sum_{r=0}^{n-1} \\gamma^\\prime_{2r+1} \\tanh\\left( \\frac{m}{2}\\gamma_{2r+1} \\right), \\;\n",
    "  \\frac{Z^\\prime_2}{Z_2} = \\frac{m}{2} \\sum_{r=0}^{n-1} \\gamma^\\prime_{2r+1} \\coth\\left( \\frac{m}{2}\\gamma_{2r+1} \\right).\n",
    "$$\n",
    "\n",
    "$$\n",
    "  \\frac{Z^\\prime_3}{Z_3} = \\frac{m}{2} \\sum_{r=0}^{n-1} \\gamma^\\prime_{2r} \\tanh\\left( \\frac{m}{2}\\gamma_{2r} \\right), \\;\n",
    "  \\frac{Z^\\prime_4}{Z_4} = \\frac{m}{2} \\sum_{r=0}^{n-1} \\gamma^\\prime_{2r} \\coth\\left( \\frac{m}{2}\\gamma_{2r} \\right).\n",
    "$$"
   ]
  },
  {
   "cell_type": "markdown",
   "metadata": {},
   "source": [
    "### $\\frac{Z^{\\prime\\prime}_1}{Z_1}, \\frac{Z^{\\prime\\prime}_2}{Z_2}, \\frac{Z^{\\prime\\prime}_3}{Z_3}, \\frac{Z^{\\prime\\prime}_4}{Z_4}$\n",
    "\n",
    "$$\n",
    "  \\frac{Z^{\\prime\\prime}_1}{Z_1} = \n",
    "  \\left[ \\frac{m}{2} \\sum_{r=0}^{n-1} \\gamma^\\prime_{2r+1} \\tanh\\left( \\frac{m}{2}\\gamma_{2r+1} \\right) \\right]^2\n",
    "  + \\frac{m}{2} \\sum_{n=0}^{n-1} \n",
    "  \\left[ \\gamma^{\\prime \\prime} \\tanh\\left( \\frac{m}{2}\\gamma_{2r+1} \\right)\n",
    "  + \\frac{m}{2} \\gamma^{\\prime} \\cosh^{-2}\\left( \\frac{m}{2}\\gamma_{2r+1} \\right) \\right],\n",
    "$$\n",
    "\n",
    "$$\n",
    "  \\frac{Z^{\\prime\\prime}_2}{Z_2} = \n",
    "  \\left[ \\frac{m}{2} \\sum_{r=0}^{n-1} \\gamma^\\prime_{2r+1} \\coth\\left( \\frac{m}{2}\\gamma_{2r+1} \\right) \\right]^2\n",
    "  + \\frac{m}{2} \\sum_{n=0}^{n-1} \n",
    "  \\left[ \\gamma^{\\prime \\prime} \\coth\\left( \\frac{m}{2}\\gamma_{2r+1} \\right)\n",
    "  - \\frac{m}{2} \\gamma^{\\prime} \\sinh^{-2}\\left( \\frac{m}{2}\\gamma_{2r+1} \\right) \\right],\n",
    "$$\n",
    "\n",
    "$$\n",
    "  \\frac{Z^{\\prime\\prime}_3}{Z_3} = \n",
    "  \\left[ \\frac{m}{2} \\sum_{r=0}^{n-1} \\gamma^\\prime_{2r} \\tanh\\left( \\frac{m}{2}\\gamma_{2r} \\right) \\right]^2\n",
    "  + \\frac{m}{2} \\sum_{n=0}^{n-1} \n",
    "  \\left[ \\gamma^{\\prime \\prime} \\tanh\\left( \\frac{m}{2}\\gamma_{2r} \\right)\n",
    "  + \\frac{m}{2} \\gamma^{\\prime} \\cosh^{-2}\\left( \\frac{m}{2}\\gamma_{2r} \\right) \\right],\n",
    "$$\n",
    "\n",
    "$$\n",
    "  \\frac{Z^{\\prime\\prime}_4}{Z_4} = \n",
    "  \\left[ \\frac{m}{2} \\sum_{r=0}^{n-1} \\gamma^\\prime_{2r} \\coth\\left( \\frac{m}{2}\\gamma_{2r} \\right) \\right]^2\n",
    "  + \\frac{m}{2} \\sum_{n=0}^{n-1} \n",
    "  \\left[ \\gamma^{\\prime \\prime} \\coth\\left( \\frac{m}{2}\\gamma_{2r} \\right)\n",
    "  - \\frac{m}{2} \\gamma^{\\prime} \\sinh^{-2}\\left( \\frac{m}{2}\\gamma_{2r} \\right) \\right].\n",
    "$$"
   ]
  },
  {
   "cell_type": "markdown",
   "metadata": {},
   "source": [
    "## Energy per site\n",
    "$$\n",
    "  \\frac{U_{nm}}{nm} = - \\frac{1}{nm} J \\frac{d}{dK} \\ln Z_{nm}\n",
    "  =-J \\coth(2K) - \\frac{J}{mn} \\frac{Z_1^\\prime(K)+Z_2^\\prime(K)+Z_3^\\prime(K)+Z_4^\\prime(K)}{Z_1(K)+Z_2(K)+Z_3(K)+Z_4(K)}\n",
    "  =-J \\coth(2K) - \\frac{J}{mn} \n",
    "  \\frac{\\frac{Z_1^\\prime}{Z_1}+\\frac{Z_2^\\prime}{Z_2}\\frac{Z_2}{Z_1}+\\frac{Z_3^\\prime}{Z_3}\\frac{Z_3}{Z_1}+\\frac{Z_4^\\prime}{Z_4}\\frac{Z_4}{Z_1}}\n",
    "  {1+\\frac{Z_2}{Z_1}+\\frac{Z_2}{Z_1}+\\frac{Z_3}{Z_1}+\\frac{Z_4}{Z_1}}.\n",
    "$$"
   ]
  },
  {
   "cell_type": "markdown",
   "metadata": {},
   "source": [
    "## Specific heat pe site\n",
    "$$\n",
    "  \\frac{C_{nm}}{nm} = \\frac{1}{nm} K^2 \\frac{d^2}{dK^2} \\ln Z_{nm}\n",
    "  = -\\frac{2K^2}{\\sinh(2K)^2} + \\frac{K^2}{nm} \n",
    "  \\left[ \n",
    "    \\frac{Z^{\\prime\\prime}_1 + Z^{\\prime\\prime}_2 + Z^{\\prime\\prime}_3 + Z^{\\prime\\prime}_4}{Z_1 + Z_2 + Z_3 + Z_4}\n",
    "    - \n",
    "    \\left[\\frac{Z^{\\prime}_1 + Z^{\\prime}_2 + Z^{\\prime}_3 + Z^{\\prime}_4}{Z_1 + Z_2 + Z_3 + Z_4}\\right]^2\n",
    "  \\right]\n",
    "$$"
   ]
  },
  {
   "cell_type": "markdown",
   "metadata": {},
   "source": [
    "## Problem-1\n",
    "\n",
    "Plot $\\ln Z$, $\\frac{E}{mn}$, $\\frac{C}{mn}$ as a function of temperature $T$ for $m=n=2, 4, 8$, etc. What is the largest size you can reach without overflow?\n",
    "\n",
    "![Alt text](FSS.png)"
   ]
  },
  {
   "cell_type": "code",
   "execution_count": null,
   "metadata": {},
   "outputs": [],
   "source": []
  }
 ],
 "metadata": {
  "kernelspec": {
   "display_name": "Python 3",
   "language": "python",
   "name": "python3"
  },
  "language_info": {
   "codemirror_mode": {
    "name": "ipython",
    "version": 3
   },
   "file_extension": ".py",
   "mimetype": "text/x-python",
   "name": "python",
   "nbconvert_exporter": "python",
   "pygments_lexer": "ipython3",
   "version": "3.7.3"
  }
 },
 "nbformat": 4,
 "nbformat_minor": 4
}
